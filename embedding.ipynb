{
 "cells": [
  {
   "cell_type": "code",
   "execution_count": 1,
   "metadata": {},
   "outputs": [],
   "source": [
    "from tensorflow.keras.preprocessing.text import one_hot"
   ]
  },
  {
   "cell_type": "code",
   "execution_count": 2,
   "metadata": {},
   "outputs": [],
   "source": [
    "### sentences\n",
    "sent=[  'the glass of milk',\n",
    "     'the glass of juice',\n",
    "     'the cup of tea',\n",
    "    'I am a good boy',\n",
    "     'I am a good developer',\n",
    "     'understand the meaning of words',\n",
    "     'your videos are good',]"
   ]
  },
  {
   "cell_type": "code",
   "execution_count": 3,
   "metadata": {},
   "outputs": [
    {
     "data": {
      "text/plain": [
       "['the glass of milk',\n",
       " 'the glass of juice',\n",
       " 'the cup of tea',\n",
       " 'I am a good boy',\n",
       " 'I am a good developer',\n",
       " 'understand the meaning of words',\n",
       " 'your videos are good']"
      ]
     },
     "execution_count": 3,
     "metadata": {},
     "output_type": "execute_result"
    }
   ],
   "source": [
    "sent"
   ]
  },
  {
   "cell_type": "code",
   "execution_count": 4,
   "metadata": {},
   "outputs": [],
   "source": [
    "## Define the vocabulary size\n",
    "voc_size=10000"
   ]
  },
  {
   "cell_type": "code",
   "execution_count": 5,
   "metadata": {},
   "outputs": [
    {
     "data": {
      "text/plain": [
       "['the glass of milk',\n",
       " 'the glass of juice',\n",
       " 'the cup of tea',\n",
       " 'I am a good boy',\n",
       " 'I am a good developer',\n",
       " 'understand the meaning of words',\n",
       " 'your videos are good']"
      ]
     },
     "execution_count": 5,
     "metadata": {},
     "output_type": "execute_result"
    }
   ],
   "source": [
    "sent"
   ]
  },
  {
   "cell_type": "code",
   "execution_count": 6,
   "metadata": {},
   "outputs": [
    {
     "data": {
      "text/plain": [
       "[[4254, 2421, 7973, 8125],\n",
       " [4254, 2421, 7973, 5227],\n",
       " [4254, 3252, 7973, 5844],\n",
       " [6903, 9976, 8217, 2415, 1385],\n",
       " [6903, 9976, 8217, 2415, 7211],\n",
       " [1028, 4254, 6653, 7973, 997],\n",
       " [5807, 7851, 7931, 2415]]"
      ]
     },
     "execution_count": 6,
     "metadata": {},
     "output_type": "execute_result"
    }
   ],
   "source": [
    "### One Hot Representation\n",
    "one_hot_repr=[one_hot(words,voc_size)for words in sent]\n",
    "one_hot_repr"
   ]
  },
  {
   "cell_type": "code",
   "execution_count": 7,
   "metadata": {},
   "outputs": [],
   "source": [
    "## word Embedding Representation\n",
    "\n",
    "from tensorflow.keras.layers import Embedding\n",
    "#from tensorflow.keras.processing.sequence import pad_sequences\n",
    "from tensorflow.keras.utils import pad_sequences\n",
    "from tensorflow.keras.models import Sequential"
   ]
  },
  {
   "cell_type": "code",
   "execution_count": 8,
   "metadata": {},
   "outputs": [],
   "source": [
    "import numpy as np"
   ]
  },
  {
   "cell_type": "code",
   "execution_count": 9,
   "metadata": {},
   "outputs": [
    {
     "name": "stdout",
     "output_type": "stream",
     "text": [
      "[[   0    0    0    0 4254 2421 7973 8125]\n",
      " [   0    0    0    0 4254 2421 7973 5227]\n",
      " [   0    0    0    0 4254 3252 7973 5844]\n",
      " [   0    0    0 6903 9976 8217 2415 1385]\n",
      " [   0    0    0 6903 9976 8217 2415 7211]\n",
      " [   0    0    0 1028 4254 6653 7973  997]\n",
      " [   0    0    0    0 5807 7851 7931 2415]]\n"
     ]
    }
   ],
   "source": [
    "sent_length=8\n",
    "embedded_docs=pad_sequences(one_hot_repr,padding='pre',maxlen=sent_length)\n",
    "print(embedded_docs)"
   ]
  },
  {
   "cell_type": "code",
   "execution_count": 10,
   "metadata": {},
   "outputs": [],
   "source": [
    "## feature representation\n",
    "dim=10"
   ]
  },
  {
   "cell_type": "code",
   "execution_count": 11,
   "metadata": {},
   "outputs": [
    {
     "name": "stderr",
     "output_type": "stream",
     "text": [
      "d:\\simple_rnn_imdb\\venvi\\Lib\\site-packages\\keras\\src\\layers\\core\\embedding.py:90: UserWarning: Argument `input_length` is deprecated. Just remove it.\n",
      "  warnings.warn(\n"
     ]
    }
   ],
   "source": [
    "model=Sequential()\n",
    "model.add(Embedding(voc_size,dim,input_length=sent_length))\n",
    "model.compile('adam','mse')"
   ]
  },
  {
   "cell_type": "code",
   "execution_count": 12,
   "metadata": {},
   "outputs": [
    {
     "data": {
      "text/html": [
       "<pre style=\"white-space:pre;overflow-x:auto;line-height:normal;font-family:Menlo,'DejaVu Sans Mono',consolas,'Courier New',monospace\"><span style=\"font-weight: bold\">Model: \"sequential\"</span>\n",
       "</pre>\n"
      ],
      "text/plain": [
       "\u001b[1mModel: \"sequential\"\u001b[0m\n"
      ]
     },
     "metadata": {},
     "output_type": "display_data"
    },
    {
     "data": {
      "text/html": [
       "<pre style=\"white-space:pre;overflow-x:auto;line-height:normal;font-family:Menlo,'DejaVu Sans Mono',consolas,'Courier New',monospace\">┏━━━━━━━━━━━━━━━━━━━━━━━━━━━━━━━━━┳━━━━━━━━━━━━━━━━━━━━━━━━┳━━━━━━━━━━━━━━━┓\n",
       "┃<span style=\"font-weight: bold\"> Layer (type)                    </span>┃<span style=\"font-weight: bold\"> Output Shape           </span>┃<span style=\"font-weight: bold\">       Param # </span>┃\n",
       "┡━━━━━━━━━━━━━━━━━━━━━━━━━━━━━━━━━╇━━━━━━━━━━━━━━━━━━━━━━━━╇━━━━━━━━━━━━━━━┩\n",
       "│ embedding (<span style=\"color: #0087ff; text-decoration-color: #0087ff\">Embedding</span>)           │ ?                      │   <span style=\"color: #00af00; text-decoration-color: #00af00\">0</span> (unbuilt) │\n",
       "└─────────────────────────────────┴────────────────────────┴───────────────┘\n",
       "</pre>\n"
      ],
      "text/plain": [
       "┏━━━━━━━━━━━━━━━━━━━━━━━━━━━━━━━━━┳━━━━━━━━━━━━━━━━━━━━━━━━┳━━━━━━━━━━━━━━━┓\n",
       "┃\u001b[1m \u001b[0m\u001b[1mLayer (type)                   \u001b[0m\u001b[1m \u001b[0m┃\u001b[1m \u001b[0m\u001b[1mOutput Shape          \u001b[0m\u001b[1m \u001b[0m┃\u001b[1m \u001b[0m\u001b[1m      Param #\u001b[0m\u001b[1m \u001b[0m┃\n",
       "┡━━━━━━━━━━━━━━━━━━━━━━━━━━━━━━━━━╇━━━━━━━━━━━━━━━━━━━━━━━━╇━━━━━━━━━━━━━━━┩\n",
       "│ embedding (\u001b[38;5;33mEmbedding\u001b[0m)           │ ?                      │   \u001b[38;5;34m0\u001b[0m (unbuilt) │\n",
       "└─────────────────────────────────┴────────────────────────┴───────────────┘\n"
      ]
     },
     "metadata": {},
     "output_type": "display_data"
    },
    {
     "data": {
      "text/html": [
       "<pre style=\"white-space:pre;overflow-x:auto;line-height:normal;font-family:Menlo,'DejaVu Sans Mono',consolas,'Courier New',monospace\"><span style=\"font-weight: bold\"> Total params: </span><span style=\"color: #00af00; text-decoration-color: #00af00\">0</span> (0.00 B)\n",
       "</pre>\n"
      ],
      "text/plain": [
       "\u001b[1m Total params: \u001b[0m\u001b[38;5;34m0\u001b[0m (0.00 B)\n"
      ]
     },
     "metadata": {},
     "output_type": "display_data"
    },
    {
     "data": {
      "text/html": [
       "<pre style=\"white-space:pre;overflow-x:auto;line-height:normal;font-family:Menlo,'DejaVu Sans Mono',consolas,'Courier New',monospace\"><span style=\"font-weight: bold\"> Trainable params: </span><span style=\"color: #00af00; text-decoration-color: #00af00\">0</span> (0.00 B)\n",
       "</pre>\n"
      ],
      "text/plain": [
       "\u001b[1m Trainable params: \u001b[0m\u001b[38;5;34m0\u001b[0m (0.00 B)\n"
      ]
     },
     "metadata": {},
     "output_type": "display_data"
    },
    {
     "data": {
      "text/html": [
       "<pre style=\"white-space:pre;overflow-x:auto;line-height:normal;font-family:Menlo,'DejaVu Sans Mono',consolas,'Courier New',monospace\"><span style=\"font-weight: bold\"> Non-trainable params: </span><span style=\"color: #00af00; text-decoration-color: #00af00\">0</span> (0.00 B)\n",
       "</pre>\n"
      ],
      "text/plain": [
       "\u001b[1m Non-trainable params: \u001b[0m\u001b[38;5;34m0\u001b[0m (0.00 B)\n"
      ]
     },
     "metadata": {},
     "output_type": "display_data"
    }
   ],
   "source": [
    "model.summary()"
   ]
  },
  {
   "cell_type": "code",
   "execution_count": 13,
   "metadata": {},
   "outputs": [
    {
     "name": "stdout",
     "output_type": "stream",
     "text": [
      "\u001b[1m1/1\u001b[0m \u001b[32m━━━━━━━━━━━━━━━━━━━━\u001b[0m\u001b[37m\u001b[0m \u001b[1m2s\u001b[0m 2s/step\n"
     ]
    },
    {
     "data": {
      "text/plain": [
       "array([[[-3.28182727e-02, -2.41827965e-03,  1.86328627e-02,\n",
       "          4.00700420e-03, -8.87694210e-03,  3.79293039e-03,\n",
       "         -3.02557107e-02,  1.18141398e-02,  4.62348200e-02,\n",
       "          2.64561176e-03],\n",
       "        [-3.28182727e-02, -2.41827965e-03,  1.86328627e-02,\n",
       "          4.00700420e-03, -8.87694210e-03,  3.79293039e-03,\n",
       "         -3.02557107e-02,  1.18141398e-02,  4.62348200e-02,\n",
       "          2.64561176e-03],\n",
       "        [-3.28182727e-02, -2.41827965e-03,  1.86328627e-02,\n",
       "          4.00700420e-03, -8.87694210e-03,  3.79293039e-03,\n",
       "         -3.02557107e-02,  1.18141398e-02,  4.62348200e-02,\n",
       "          2.64561176e-03],\n",
       "        [-3.28182727e-02, -2.41827965e-03,  1.86328627e-02,\n",
       "          4.00700420e-03, -8.87694210e-03,  3.79293039e-03,\n",
       "         -3.02557107e-02,  1.18141398e-02,  4.62348200e-02,\n",
       "          2.64561176e-03],\n",
       "        [ 1.43036507e-02,  2.05294825e-02,  1.80491693e-02,\n",
       "         -4.35207039e-03, -3.49597223e-02, -1.96629763e-02,\n",
       "          3.27817239e-02,  4.11499180e-02, -3.57519388e-02,\n",
       "         -1.09438188e-02],\n",
       "        [ 2.27752440e-02, -4.82078083e-02, -2.17533000e-02,\n",
       "         -2.71222237e-02,  2.25864165e-02, -2.67878417e-02,\n",
       "          3.45457457e-02, -1.32985339e-02,  4.89776023e-02,\n",
       "         -3.84356156e-02],\n",
       "        [ 2.72845067e-02,  4.94074486e-02, -1.04093924e-02,\n",
       "         -1.93866342e-03,  1.28498785e-02, -2.55262256e-02,\n",
       "          2.23096944e-02, -5.75925037e-03, -2.03523282e-02,\n",
       "         -9.74384695e-03],\n",
       "        [-5.11026382e-03,  1.84190273e-03, -2.27547772e-02,\n",
       "          1.86355822e-02,  2.36306675e-02, -4.88650799e-03,\n",
       "         -1.14191324e-04, -3.75138633e-02, -2.71499511e-02,\n",
       "         -2.44798791e-02]],\n",
       "\n",
       "       [[-3.28182727e-02, -2.41827965e-03,  1.86328627e-02,\n",
       "          4.00700420e-03, -8.87694210e-03,  3.79293039e-03,\n",
       "         -3.02557107e-02,  1.18141398e-02,  4.62348200e-02,\n",
       "          2.64561176e-03],\n",
       "        [-3.28182727e-02, -2.41827965e-03,  1.86328627e-02,\n",
       "          4.00700420e-03, -8.87694210e-03,  3.79293039e-03,\n",
       "         -3.02557107e-02,  1.18141398e-02,  4.62348200e-02,\n",
       "          2.64561176e-03],\n",
       "        [-3.28182727e-02, -2.41827965e-03,  1.86328627e-02,\n",
       "          4.00700420e-03, -8.87694210e-03,  3.79293039e-03,\n",
       "         -3.02557107e-02,  1.18141398e-02,  4.62348200e-02,\n",
       "          2.64561176e-03],\n",
       "        [-3.28182727e-02, -2.41827965e-03,  1.86328627e-02,\n",
       "          4.00700420e-03, -8.87694210e-03,  3.79293039e-03,\n",
       "         -3.02557107e-02,  1.18141398e-02,  4.62348200e-02,\n",
       "          2.64561176e-03],\n",
       "        [ 1.43036507e-02,  2.05294825e-02,  1.80491693e-02,\n",
       "         -4.35207039e-03, -3.49597223e-02, -1.96629763e-02,\n",
       "          3.27817239e-02,  4.11499180e-02, -3.57519388e-02,\n",
       "         -1.09438188e-02],\n",
       "        [ 2.27752440e-02, -4.82078083e-02, -2.17533000e-02,\n",
       "         -2.71222237e-02,  2.25864165e-02, -2.67878417e-02,\n",
       "          3.45457457e-02, -1.32985339e-02,  4.89776023e-02,\n",
       "         -3.84356156e-02],\n",
       "        [ 2.72845067e-02,  4.94074486e-02, -1.04093924e-02,\n",
       "         -1.93866342e-03,  1.28498785e-02, -2.55262256e-02,\n",
       "          2.23096944e-02, -5.75925037e-03, -2.03523282e-02,\n",
       "         -9.74384695e-03],\n",
       "        [-2.66217235e-02, -4.99390066e-04, -5.52097708e-03,\n",
       "          3.76845635e-02,  2.77872719e-02,  2.55082138e-02,\n",
       "         -4.70940731e-02,  1.02029443e-02,  4.77376245e-02,\n",
       "         -2.42790468e-02]],\n",
       "\n",
       "       [[-3.28182727e-02, -2.41827965e-03,  1.86328627e-02,\n",
       "          4.00700420e-03, -8.87694210e-03,  3.79293039e-03,\n",
       "         -3.02557107e-02,  1.18141398e-02,  4.62348200e-02,\n",
       "          2.64561176e-03],\n",
       "        [-3.28182727e-02, -2.41827965e-03,  1.86328627e-02,\n",
       "          4.00700420e-03, -8.87694210e-03,  3.79293039e-03,\n",
       "         -3.02557107e-02,  1.18141398e-02,  4.62348200e-02,\n",
       "          2.64561176e-03],\n",
       "        [-3.28182727e-02, -2.41827965e-03,  1.86328627e-02,\n",
       "          4.00700420e-03, -8.87694210e-03,  3.79293039e-03,\n",
       "         -3.02557107e-02,  1.18141398e-02,  4.62348200e-02,\n",
       "          2.64561176e-03],\n",
       "        [-3.28182727e-02, -2.41827965e-03,  1.86328627e-02,\n",
       "          4.00700420e-03, -8.87694210e-03,  3.79293039e-03,\n",
       "         -3.02557107e-02,  1.18141398e-02,  4.62348200e-02,\n",
       "          2.64561176e-03],\n",
       "        [ 1.43036507e-02,  2.05294825e-02,  1.80491693e-02,\n",
       "         -4.35207039e-03, -3.49597223e-02, -1.96629763e-02,\n",
       "          3.27817239e-02,  4.11499180e-02, -3.57519388e-02,\n",
       "         -1.09438188e-02],\n",
       "        [-4.93316650e-02, -1.85064077e-02, -2.51914021e-02,\n",
       "          2.98591368e-02,  1.12053156e-02,  4.68788482e-02,\n",
       "         -2.81989817e-02,  3.04933451e-02,  1.34967268e-04,\n",
       "         -4.82393280e-02],\n",
       "        [ 2.72845067e-02,  4.94074486e-02, -1.04093924e-02,\n",
       "         -1.93866342e-03,  1.28498785e-02, -2.55262256e-02,\n",
       "          2.23096944e-02, -5.75925037e-03, -2.03523282e-02,\n",
       "         -9.74384695e-03],\n",
       "        [ 2.90479921e-02,  3.22360061e-02, -4.21093814e-02,\n",
       "          2.31871717e-02,  1.59207471e-02,  2.68387534e-02,\n",
       "         -4.66426872e-02,  4.11209725e-02, -2.25858446e-02,\n",
       "         -2.99581289e-02]],\n",
       "\n",
       "       [[-3.28182727e-02, -2.41827965e-03,  1.86328627e-02,\n",
       "          4.00700420e-03, -8.87694210e-03,  3.79293039e-03,\n",
       "         -3.02557107e-02,  1.18141398e-02,  4.62348200e-02,\n",
       "          2.64561176e-03],\n",
       "        [-3.28182727e-02, -2.41827965e-03,  1.86328627e-02,\n",
       "          4.00700420e-03, -8.87694210e-03,  3.79293039e-03,\n",
       "         -3.02557107e-02,  1.18141398e-02,  4.62348200e-02,\n",
       "          2.64561176e-03],\n",
       "        [-3.28182727e-02, -2.41827965e-03,  1.86328627e-02,\n",
       "          4.00700420e-03, -8.87694210e-03,  3.79293039e-03,\n",
       "         -3.02557107e-02,  1.18141398e-02,  4.62348200e-02,\n",
       "          2.64561176e-03],\n",
       "        [-1.36139169e-02,  4.42486890e-02,  4.32631113e-02,\n",
       "          1.80129074e-02,  1.91779621e-02,  1.35143511e-02,\n",
       "          2.53106095e-02, -4.36541922e-02,  9.40989330e-03,\n",
       "         -2.56971605e-02],\n",
       "        [ 3.61437462e-02, -2.03492399e-02, -1.41764767e-02,\n",
       "          7.76438788e-03,  3.21408994e-02, -2.91620567e-03,\n",
       "         -1.20639317e-02, -1.90256368e-02,  1.42642148e-02,\n",
       "          4.13154028e-02],\n",
       "        [ 2.63292827e-02, -2.76574977e-02,  4.02292125e-02,\n",
       "         -9.22087580e-03, -4.62650172e-02,  2.39067338e-02,\n",
       "          3.06922458e-02, -4.03380767e-02, -2.60366686e-02,\n",
       "          4.93795164e-02],\n",
       "        [ 5.56923077e-03, -4.43349592e-02, -2.05013156e-02,\n",
       "         -2.33822353e-02,  8.64237547e-03, -2.37554796e-02,\n",
       "         -1.01588964e-02,  1.58595480e-02, -3.27221043e-02,\n",
       "         -1.88946724e-05],\n",
       "        [-5.42564318e-03, -3.20971608e-02, -4.89283092e-02,\n",
       "         -2.53980998e-02, -2.56528612e-02, -1.51839145e-02,\n",
       "          2.69540586e-02,  2.60824673e-02, -2.65077110e-02,\n",
       "          2.75801085e-02]],\n",
       "\n",
       "       [[-3.28182727e-02, -2.41827965e-03,  1.86328627e-02,\n",
       "          4.00700420e-03, -8.87694210e-03,  3.79293039e-03,\n",
       "         -3.02557107e-02,  1.18141398e-02,  4.62348200e-02,\n",
       "          2.64561176e-03],\n",
       "        [-3.28182727e-02, -2.41827965e-03,  1.86328627e-02,\n",
       "          4.00700420e-03, -8.87694210e-03,  3.79293039e-03,\n",
       "         -3.02557107e-02,  1.18141398e-02,  4.62348200e-02,\n",
       "          2.64561176e-03],\n",
       "        [-3.28182727e-02, -2.41827965e-03,  1.86328627e-02,\n",
       "          4.00700420e-03, -8.87694210e-03,  3.79293039e-03,\n",
       "         -3.02557107e-02,  1.18141398e-02,  4.62348200e-02,\n",
       "          2.64561176e-03],\n",
       "        [-1.36139169e-02,  4.42486890e-02,  4.32631113e-02,\n",
       "          1.80129074e-02,  1.91779621e-02,  1.35143511e-02,\n",
       "          2.53106095e-02, -4.36541922e-02,  9.40989330e-03,\n",
       "         -2.56971605e-02],\n",
       "        [ 3.61437462e-02, -2.03492399e-02, -1.41764767e-02,\n",
       "          7.76438788e-03,  3.21408994e-02, -2.91620567e-03,\n",
       "         -1.20639317e-02, -1.90256368e-02,  1.42642148e-02,\n",
       "          4.13154028e-02],\n",
       "        [ 2.63292827e-02, -2.76574977e-02,  4.02292125e-02,\n",
       "         -9.22087580e-03, -4.62650172e-02,  2.39067338e-02,\n",
       "          3.06922458e-02, -4.03380767e-02, -2.60366686e-02,\n",
       "          4.93795164e-02],\n",
       "        [ 5.56923077e-03, -4.43349592e-02, -2.05013156e-02,\n",
       "         -2.33822353e-02,  8.64237547e-03, -2.37554796e-02,\n",
       "         -1.01588964e-02,  1.58595480e-02, -3.27221043e-02,\n",
       "         -1.88946724e-05],\n",
       "        [-4.51974273e-02,  4.00572754e-02, -4.63458411e-02,\n",
       "          2.23564394e-02, -1.51155144e-03, -4.87589017e-02,\n",
       "         -3.08082458e-02, -1.55387744e-02,  2.48908661e-02,\n",
       "         -4.59006317e-02]],\n",
       "\n",
       "       [[-3.28182727e-02, -2.41827965e-03,  1.86328627e-02,\n",
       "          4.00700420e-03, -8.87694210e-03,  3.79293039e-03,\n",
       "         -3.02557107e-02,  1.18141398e-02,  4.62348200e-02,\n",
       "          2.64561176e-03],\n",
       "        [-3.28182727e-02, -2.41827965e-03,  1.86328627e-02,\n",
       "          4.00700420e-03, -8.87694210e-03,  3.79293039e-03,\n",
       "         -3.02557107e-02,  1.18141398e-02,  4.62348200e-02,\n",
       "          2.64561176e-03],\n",
       "        [-3.28182727e-02, -2.41827965e-03,  1.86328627e-02,\n",
       "          4.00700420e-03, -8.87694210e-03,  3.79293039e-03,\n",
       "         -3.02557107e-02,  1.18141398e-02,  4.62348200e-02,\n",
       "          2.64561176e-03],\n",
       "        [ 2.19861977e-02,  1.54653937e-03,  2.36414559e-02,\n",
       "         -1.58394463e-02,  4.98184599e-02, -1.26878172e-03,\n",
       "          6.01266697e-03,  2.87919976e-02,  3.55110206e-02,\n",
       "          3.51321585e-02],\n",
       "        [ 1.43036507e-02,  2.05294825e-02,  1.80491693e-02,\n",
       "         -4.35207039e-03, -3.49597223e-02, -1.96629763e-02,\n",
       "          3.27817239e-02,  4.11499180e-02, -3.57519388e-02,\n",
       "         -1.09438188e-02],\n",
       "        [ 1.36100389e-02,  4.75709923e-02, -4.46458459e-02,\n",
       "          4.43837307e-02, -1.22565627e-02, -2.56618392e-02,\n",
       "          3.22927497e-02,  4.88393418e-02,  4.82225679e-02,\n",
       "         -3.92477289e-02],\n",
       "        [ 2.72845067e-02,  4.94074486e-02, -1.04093924e-02,\n",
       "         -1.93866342e-03,  1.28498785e-02, -2.55262256e-02,\n",
       "          2.23096944e-02, -5.75925037e-03, -2.03523282e-02,\n",
       "         -9.74384695e-03],\n",
       "        [ 3.80966924e-02, -1.76098943e-02, -3.25828791e-02,\n",
       "         -4.07484882e-02,  1.31338723e-02, -6.34706020e-03,\n",
       "          4.61556651e-02, -1.12045556e-04,  1.09946951e-02,\n",
       "          4.79827076e-03]],\n",
       "\n",
       "       [[-3.28182727e-02, -2.41827965e-03,  1.86328627e-02,\n",
       "          4.00700420e-03, -8.87694210e-03,  3.79293039e-03,\n",
       "         -3.02557107e-02,  1.18141398e-02,  4.62348200e-02,\n",
       "          2.64561176e-03],\n",
       "        [-3.28182727e-02, -2.41827965e-03,  1.86328627e-02,\n",
       "          4.00700420e-03, -8.87694210e-03,  3.79293039e-03,\n",
       "         -3.02557107e-02,  1.18141398e-02,  4.62348200e-02,\n",
       "          2.64561176e-03],\n",
       "        [-3.28182727e-02, -2.41827965e-03,  1.86328627e-02,\n",
       "          4.00700420e-03, -8.87694210e-03,  3.79293039e-03,\n",
       "         -3.02557107e-02,  1.18141398e-02,  4.62348200e-02,\n",
       "          2.64561176e-03],\n",
       "        [-3.28182727e-02, -2.41827965e-03,  1.86328627e-02,\n",
       "          4.00700420e-03, -8.87694210e-03,  3.79293039e-03,\n",
       "         -3.02557107e-02,  1.18141398e-02,  4.62348200e-02,\n",
       "          2.64561176e-03],\n",
       "        [-2.01381370e-03, -4.58983071e-02,  4.28286307e-02,\n",
       "         -4.09243330e-02,  3.38933952e-02,  1.70570724e-02,\n",
       "          2.63196230e-03, -3.02368402e-03,  6.55104965e-03,\n",
       "         -1.92258842e-02],\n",
       "        [-1.52994879e-02,  4.21990193e-02,  1.72770508e-02,\n",
       "         -3.40957195e-02, -4.98763435e-02, -3.77167016e-04,\n",
       "         -1.82414539e-02,  4.15799357e-02, -3.75167355e-02,\n",
       "         -3.99582013e-02],\n",
       "        [ 1.78265683e-02,  1.82334892e-02, -5.49761206e-03,\n",
       "          1.40666105e-02,  2.85819508e-02,  4.43365313e-02,\n",
       "         -1.82158239e-02,  1.92938484e-02,  2.35022046e-02,\n",
       "         -4.00712490e-02],\n",
       "        [ 5.56923077e-03, -4.43349592e-02, -2.05013156e-02,\n",
       "         -2.33822353e-02,  8.64237547e-03, -2.37554796e-02,\n",
       "         -1.01588964e-02,  1.58595480e-02, -3.27221043e-02,\n",
       "         -1.88946724e-05]]], dtype=float32)"
      ]
     },
     "execution_count": 13,
     "metadata": {},
     "output_type": "execute_result"
    }
   ],
   "source": [
    "model.predict(embedded_docs)"
   ]
  },
  {
   "cell_type": "code",
   "execution_count": 14,
   "metadata": {},
   "outputs": [
    {
     "data": {
      "text/plain": [
       "array([   0,    0,    0,    0, 4254, 2421, 7973, 8125], dtype=int32)"
      ]
     },
     "execution_count": 14,
     "metadata": {},
     "output_type": "execute_result"
    }
   ],
   "source": [
    "embedded_docs[0]"
   ]
  },
  {
   "cell_type": "code",
   "execution_count": 15,
   "metadata": {},
   "outputs": [
    {
     "ename": "ValueError",
     "evalue": "Exception encountered when calling Sequential.call().\n\n\u001b[1mCannot take the length of shape with unknown rank.\u001b[0m\n\nArguments received by Sequential.call():\n  • inputs=tf.Tensor(shape=<unknown>, dtype=int32)\n  • training=False\n  • mask=None",
     "output_type": "error",
     "traceback": [
      "\u001b[1;31m---------------------------------------------------------------------------\u001b[0m",
      "\u001b[1;31mValueError\u001b[0m                                Traceback (most recent call last)",
      "Cell \u001b[1;32mIn[15], line 1\u001b[0m\n\u001b[1;32m----> 1\u001b[0m \u001b[43mmodel\u001b[49m\u001b[38;5;241;43m.\u001b[39;49m\u001b[43mpredict\u001b[49m\u001b[43m(\u001b[49m\u001b[43membedded_docs\u001b[49m\u001b[43m[\u001b[49m\u001b[38;5;241;43m0\u001b[39;49m\u001b[43m]\u001b[49m\u001b[43m)\u001b[49m\n",
      "File \u001b[1;32md:\\simple_rnn_imdb\\venvi\\Lib\\site-packages\\keras\\src\\utils\\traceback_utils.py:122\u001b[0m, in \u001b[0;36mfilter_traceback.<locals>.error_handler\u001b[1;34m(*args, **kwargs)\u001b[0m\n\u001b[0;32m    119\u001b[0m     filtered_tb \u001b[38;5;241m=\u001b[39m _process_traceback_frames(e\u001b[38;5;241m.\u001b[39m__traceback__)\n\u001b[0;32m    120\u001b[0m     \u001b[38;5;66;03m# To get the full stack trace, call:\u001b[39;00m\n\u001b[0;32m    121\u001b[0m     \u001b[38;5;66;03m# `keras.config.disable_traceback_filtering()`\u001b[39;00m\n\u001b[1;32m--> 122\u001b[0m     \u001b[38;5;28;01mraise\u001b[39;00m e\u001b[38;5;241m.\u001b[39mwith_traceback(filtered_tb) \u001b[38;5;28;01mfrom\u001b[39;00m \u001b[38;5;28;01mNone\u001b[39;00m\n\u001b[0;32m    123\u001b[0m \u001b[38;5;28;01mfinally\u001b[39;00m:\n\u001b[0;32m    124\u001b[0m     \u001b[38;5;28;01mdel\u001b[39;00m filtered_tb\n",
      "File \u001b[1;32md:\\simple_rnn_imdb\\venvi\\Lib\\site-packages\\keras\\src\\utils\\traceback_utils.py:122\u001b[0m, in \u001b[0;36mfilter_traceback.<locals>.error_handler\u001b[1;34m(*args, **kwargs)\u001b[0m\n\u001b[0;32m    119\u001b[0m     filtered_tb \u001b[38;5;241m=\u001b[39m _process_traceback_frames(e\u001b[38;5;241m.\u001b[39m__traceback__)\n\u001b[0;32m    120\u001b[0m     \u001b[38;5;66;03m# To get the full stack trace, call:\u001b[39;00m\n\u001b[0;32m    121\u001b[0m     \u001b[38;5;66;03m# `keras.config.disable_traceback_filtering()`\u001b[39;00m\n\u001b[1;32m--> 122\u001b[0m     \u001b[38;5;28;01mraise\u001b[39;00m e\u001b[38;5;241m.\u001b[39mwith_traceback(filtered_tb) \u001b[38;5;28;01mfrom\u001b[39;00m \u001b[38;5;28;01mNone\u001b[39;00m\n\u001b[0;32m    123\u001b[0m \u001b[38;5;28;01mfinally\u001b[39;00m:\n\u001b[0;32m    124\u001b[0m     \u001b[38;5;28;01mdel\u001b[39;00m filtered_tb\n",
      "\u001b[1;31mValueError\u001b[0m: Exception encountered when calling Sequential.call().\n\n\u001b[1mCannot take the length of shape with unknown rank.\u001b[0m\n\nArguments received by Sequential.call():\n  • inputs=tf.Tensor(shape=<unknown>, dtype=int32)\n  • training=False\n  • mask=None"
     ]
    }
   ],
   "source": [
    "model.predict(embedded_docs[0])"
   ]
  },
  {
   "cell_type": "code",
   "execution_count": null,
   "metadata": {},
   "outputs": [],
   "source": []
  }
 ],
 "metadata": {
  "kernelspec": {
   "display_name": "venvi",
   "language": "python",
   "name": "python3"
  },
  "language_info": {
   "codemirror_mode": {
    "name": "ipython",
    "version": 3
   },
   "file_extension": ".py",
   "mimetype": "text/x-python",
   "name": "python",
   "nbconvert_exporter": "python",
   "pygments_lexer": "ipython3",
   "version": "3.12.0"
  }
 },
 "nbformat": 4,
 "nbformat_minor": 2
}
